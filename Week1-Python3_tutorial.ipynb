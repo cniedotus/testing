{
 "cells": [
  {
   "cell_type": "markdown",
   "metadata": {
    "nbpresent": {
     "id": "e925b10e-8fef-474e-b8a6-1307ae343fa5"
    }
   },
   "source": [
    "# <center> Python and SQLite tutorial </center>\n",
    "\n",
    "<center> Author: Cheng Nie </center>\n",
    "<center> Current Version: fall, 2018</center>\n",
    "\n"
   ]
  },
  {
   "cell_type": "markdown",
   "metadata": {
    "nbpresent": {
     "id": "8c10115b-55eb-488b-a959-62ec9403cfb3"
    },
    "slideshow": {
     "slide_type": "slide"
    }
   },
   "source": [
    "# Python Setup\n",
    "\n",
    "I will use Mac OS (Operating System) for illustration of the setup. Setting up the environmnet in Windows and Linux are similar. Because Python is platform independent, the code should produce the same results whichever operating system (even on your smart phone) you are using.\n",
    "\n",
    "Download the Python 3.X version of Anaconda that matches your operating system from this [link](https://www.anaconda.com/download/). You can accept the default options during installation. \n",
    "\n",
    "You can save and run this document using the Jupyter notebook (previously known as IPython notebook). Another tool that I recommend would be [PyCharm](https://www.jetbrains.com/pycharm/), which has a free community edition. \n",
    "\n",
    "This is a tutorial based on the official [Python Tutorial for Python 3.6](https://docs.python.org/3.6/tutorial/index.html). If you need a little more motivation to learn this programming language, consider reading this [article](https://docs.python.org/3.6/tutorial/appetite.html). "
   ]
  },
  {
   "cell_type": "markdown",
   "metadata": {
    "nbpresent": {
     "id": "686b9f33-06e5-46bf-b7b1-ce3cd9f5e971"
    }
   },
   "source": [
    "# Numbers"
   ]
  },
  {
   "cell_type": "code",
   "execution_count": null,
   "metadata": {
    "nbpresent": {
     "id": "7fb69384-da7d-4468-a115-2c60801ec284"
    }
   },
   "outputs": [],
   "source": [
    "width = 20\n",
    "height = 5*9\n",
    "width * height"
   ]
  },
  {
   "cell_type": "markdown",
   "metadata": {
    "nbpresent": {
     "id": "c1e90481-00eb-444a-9224-871df9f8ed27"
    }
   },
   "source": [
    "## Calculator"
   ]
  },
  {
   "cell_type": "code",
   "execution_count": null,
   "metadata": {
    "nbpresent": {
     "id": "3537551a-23e0-4b82-9c9f-511599d5b6d7"
    }
   },
   "outputs": [],
   "source": [
    "tax = 7 / 100\n",
    "price = 100.50\n",
    "price * tax"
   ]
  },
  {
   "cell_type": "code",
   "execution_count": null,
   "metadata": {
    "nbpresent": {
     "id": "52c8ef34-0c7d-4e6e-8232-8ee9c763faa6"
    }
   },
   "outputs": [],
   "source": [
    "price + _"
   ]
  },
  {
   "cell_type": "code",
   "execution_count": null,
   "metadata": {
    "nbpresent": {
     "id": "9af67a61-d7ac-4ad1-a593-5d50c9391977"
    }
   },
   "outputs": [],
   "source": [
    "round(_, 2)"
   ]
  },
  {
   "cell_type": "markdown",
   "metadata": {
    "nbpresent": {
     "id": "92bfe509-c9f1-48b0-bc85-68f104ea8652"
    }
   },
   "source": [
    "# Strings"
   ]
  },
  {
   "cell_type": "code",
   "execution_count": null,
   "metadata": {
    "nbpresent": {
     "id": "1aca9be6-451d-44f8-856f-d6c1d6d61199"
    }
   },
   "outputs": [],
   "source": [
    "print('spam email')"
   ]
  },
  {
   "cell_type": "markdown",
   "metadata": {
    "nbpresent": {
     "id": "5d6a6bb8-c6fb-4ea0-8460-4fac06dd0aad"
    }
   },
   "source": [
    "## show ' and \" in a string"
   ]
  },
  {
   "cell_type": "code",
   "execution_count": null,
   "metadata": {
    "nbpresent": {
     "id": "8b931e36-1e6a-4eaf-8a8f-bb09ce7937b3"
    }
   },
   "outputs": [],
   "source": [
    "# This would cause error \n",
    "print('doesn't')"
   ]
  },
  {
   "cell_type": "code",
   "execution_count": null,
   "metadata": {
    "nbpresent": {
     "id": "a9a636ff-eb32-46c1-985b-32f404b34faf"
    }
   },
   "outputs": [],
   "source": [
    "# One way of doing it correctly\n",
    "print('doesn\\'t')"
   ]
  },
  {
   "cell_type": "code",
   "execution_count": null,
   "metadata": {
    "nbpresent": {
     "id": "ab0272d7-fe29-4855-885c-7661f6063ad8"
    }
   },
   "outputs": [],
   "source": [
    "# Another way of doing it correctly\n",
    "print(\"doesn't\")"
   ]
  },
  {
   "cell_type": "markdown",
   "metadata": {
    "nbpresent": {
     "id": "cfaf4eac-b506-4963-a0eb-200d244e357c"
    }
   },
   "source": [
    "## span multiple lines"
   ]
  },
  {
   "cell_type": "code",
   "execution_count": null,
   "metadata": {
    "nbpresent": {
     "id": "eab54ccc-3e1e-463f-877d-65b6d63e1568"
    }
   },
   "outputs": [],
   "source": [
    "print('''\n",
    "Usage: thingy [OPTIONS]\n",
    "     -h                        Display this usage message\n",
    "     -H hostname               Hostname to connect to\n",
    "''')"
   ]
  },
  {
   "cell_type": "code",
   "execution_count": null,
   "metadata": {
    "nbpresent": {
     "id": "1372b141-56f0-45e6-b9d0-7f79b8d127b6"
    }
   },
   "outputs": [],
   "source": [
    "print('''Cheng highly recommends Python programming language''')"
   ]
  },
  {
   "cell_type": "markdown",
   "metadata": {
    "nbpresent": {
     "id": "d297657c-7720-4c77-bb6d-2dac5e07bb5e"
    }
   },
   "source": [
    "# slice and index"
   ]
  },
  {
   "cell_type": "code",
   "execution_count": null,
   "metadata": {
    "nbpresent": {
     "id": "f7a647e0-136f-4f30-89fb-1ddfde095e80"
    }
   },
   "outputs": [],
   "source": [
    "word = 'HELP' + 'A'\n",
    "word"
   ]
  },
  {
   "cell_type": "markdown",
   "metadata": {
    "nbpresent": {
     "id": "54a0d2fc-0e29-476b-9ec8-f8e1e9cb02c1"
    }
   },
   "source": [
    "Index in the Python way"
   ]
  },
  {
   "cell_type": "code",
   "execution_count": null,
   "metadata": {
    "nbpresent": {
     "id": "7abb6079-e53c-46ae-8633-0a9333debf65"
    }
   },
   "outputs": [],
   "source": [
    "word[0]"
   ]
  },
  {
   "cell_type": "code",
   "execution_count": null,
   "metadata": {
    "nbpresent": {
     "id": "e5e8d0f1-4483-4031-aefa-98c5ebd44dae"
    }
   },
   "outputs": [],
   "source": [
    "word[4]"
   ]
  },
  {
   "cell_type": "code",
   "execution_count": null,
   "metadata": {
    "nbpresent": {
     "id": "4f137f61-adc2-42a3-8e36-8b74172cef08"
    }
   },
   "outputs": [],
   "source": [
    "# endding index not included\n",
    "word[0:2]"
   ]
  },
  {
   "cell_type": "code",
   "execution_count": null,
   "metadata": {
    "nbpresent": {
     "id": "c312992f-7456-437a-beb3-46606f44c88d"
    }
   },
   "outputs": [],
   "source": [
    "word[2:4]"
   ]
  },
  {
   "cell_type": "code",
   "execution_count": null,
   "metadata": {
    "nbpresent": {
     "id": "c1897835-54ed-42e0-872f-a6da76cd54d2"
    }
   },
   "outputs": [],
   "source": [
    "# length of a string\n",
    "len(word)"
   ]
  },
  {
   "cell_type": "markdown",
   "metadata": {
    "nbpresent": {
     "id": "61a26e2c-3c43-4a04-88d9-546fbd134051"
    }
   },
   "source": [
    "# List"
   ]
  },
  {
   "cell_type": "code",
   "execution_count": null,
   "metadata": {
    "nbpresent": {
     "id": "12d327a2-ac7d-4db6-9702-b00dfd66770d"
    }
   },
   "outputs": [],
   "source": [
    "a = ['spam', 'eggs', 100, 1234]\n",
    "a"
   ]
  },
  {
   "cell_type": "code",
   "execution_count": null,
   "metadata": {
    "nbpresent": {
     "id": "54c06299-5357-4d6e-94fe-2f60ef7c34b6"
    }
   },
   "outputs": [],
   "source": [
    "a[0]"
   ]
  },
  {
   "cell_type": "code",
   "execution_count": null,
   "metadata": {
    "nbpresent": {
     "id": "43e07570-add3-4b7f-bd73-6108f342ef4a"
    }
   },
   "outputs": [],
   "source": [
    "a[3]"
   ]
  },
  {
   "cell_type": "code",
   "execution_count": null,
   "metadata": {
    "nbpresent": {
     "id": "92049e0a-1631-4855-ba19-224c6bf26f77"
    }
   },
   "outputs": [],
   "source": [
    "a[2:4]"
   ]
  },
  {
   "cell_type": "code",
   "execution_count": null,
   "metadata": {
    "nbpresent": {
     "id": "1ac94865-2349-4536-99d2-44bb3e6c7a3b"
    }
   },
   "outputs": [],
   "source": [
    "sum(a[2:4])"
   ]
  },
  {
   "cell_type": "markdown",
   "metadata": {
    "nbpresent": {
     "id": "3ba999d7-2522-4f90-a1fd-0a458b00843a"
    }
   },
   "source": [
    "Built-in functions like `sum` and `len` are explained in the document too. Here is a [link](https://docs.python.org/3.6/library/functions.html) to it. "
   ]
  },
  {
   "cell_type": "markdown",
   "metadata": {
    "nbpresent": {
     "id": "c5f0ba01-6dd0-476c-8612-197187fc060d"
    }
   },
   "source": [
    "## Mutable"
   ]
  },
  {
   "cell_type": "code",
   "execution_count": null,
   "metadata": {
    "nbpresent": {
     "id": "854d81ed-8004-425a-bd32-3e5b230cbce2"
    }
   },
   "outputs": [],
   "source": [
    "a"
   ]
  },
  {
   "cell_type": "code",
   "execution_count": null,
   "metadata": {
    "nbpresent": {
     "id": "7061077e-6db4-42e0-941d-33c862619ef9"
    }
   },
   "outputs": [],
   "source": [
    "a[2] = a[2] + 23\n",
    "a"
   ]
  },
  {
   "cell_type": "markdown",
   "metadata": {
    "nbpresent": {
     "id": "2df49418-b743-4cb9-abd0-4687c62bc78b"
    }
   },
   "source": [
    "## Nest lists"
   ]
  },
  {
   "cell_type": "code",
   "execution_count": null,
   "metadata": {
    "nbpresent": {
     "id": "d91ef26c-e127-4c31-9d9b-582e3dd58300"
    }
   },
   "outputs": [],
   "source": [
    "q = [2, 3]\n",
    "p = [1, q, 4]\n",
    "p"
   ]
  },
  {
   "cell_type": "code",
   "execution_count": null,
   "metadata": {
    "nbpresent": {
     "id": "921161d4-460e-42fc-ab5a-f81704b8c201"
    }
   },
   "outputs": [],
   "source": [
    "len(p)"
   ]
  },
  {
   "cell_type": "code",
   "execution_count": null,
   "metadata": {
    "nbpresent": {
     "id": "16ceb02c-15ed-4093-b3c2-7f9778decefc"
    }
   },
   "outputs": [],
   "source": [
    "p[1]"
   ]
  },
  {
   "cell_type": "code",
   "execution_count": null,
   "metadata": {
    "nbpresent": {
     "id": "ac493dbf-5d9b-4ad6-b7be-0ca27b48eb74"
    }
   },
   "outputs": [],
   "source": [
    "p[1][0]"
   ]
  },
  {
   "cell_type": "markdown",
   "metadata": {
    "nbpresent": {
     "id": "486ba462-24f3-430a-9dd0-a8f5d7b4fd8d"
    }
   },
   "source": [
    "## tuple\n",
    "similar to list, but immutable (element cannot be changed)"
   ]
  },
  {
   "cell_type": "code",
   "execution_count": null,
   "metadata": {
    "nbpresent": {
     "id": "79327b57-7bb3-430c-bf64-1b34d7f547a1"
    }
   },
   "outputs": [],
   "source": [
    "x=(1,2,3,4)\n",
    "x[0]"
   ]
  },
  {
   "cell_type": "code",
   "execution_count": null,
   "metadata": {
    "nbpresent": {
     "id": "407d9153-8e2b-4cd1-b672-05b1f3b34869"
    }
   },
   "outputs": [],
   "source": [
    "x[0]=7 # it will raise error since tuple is immutable"
   ]
  },
  {
   "cell_type": "markdown",
   "metadata": {
    "nbpresent": {
     "id": "17385164-4ccd-4e95-8e2b-49b2056a5c91"
    }
   },
   "source": [
    "# dict"
   ]
  },
  {
   "cell_type": "code",
   "execution_count": null,
   "metadata": {
    "nbpresent": {
     "id": "5b5a7c55-3c0a-40f4-82ce-452282cdf673"
    }
   },
   "outputs": [],
   "source": [
    "tel = {'jack': 4098, 'sam': 4139}\n",
    "tel['dan'] = 4127\n",
    "tel"
   ]
  },
  {
   "cell_type": "code",
   "execution_count": null,
   "metadata": {
    "nbpresent": {
     "id": "2f989586-7c46-42e8-99ed-2984c668b285"
    }
   },
   "outputs": [],
   "source": [
    "tel['jack']"
   ]
  },
  {
   "cell_type": "code",
   "execution_count": null,
   "metadata": {
    "nbpresent": {
     "id": "0b50a114-059f-487a-939c-461204950f58"
    }
   },
   "outputs": [],
   "source": [
    "del tel['sam']\n",
    "tel"
   ]
  },
  {
   "cell_type": "code",
   "execution_count": null,
   "metadata": {
    "nbpresent": {
     "id": "b780af6a-7b00-44f2-83bd-bc423c57aa1f"
    }
   },
   "outputs": [],
   "source": [
    "tel['mike'] = 4127\n",
    "tel"
   ]
  },
  {
   "cell_type": "code",
   "execution_count": null,
   "metadata": {
    "nbpresent": {
     "id": "2a1d04c9-dd07-4a9d-b811-1b9554180ac6"
    }
   },
   "outputs": [],
   "source": [
    "# Is dan in the dict?\n",
    "'dan' in tel"
   ]
  },
  {
   "cell_type": "code",
   "execution_count": null,
   "metadata": {
    "nbpresent": {
     "id": "83e1b139-0299-4516-a4f8-ecfbed4158f4"
    }
   },
   "outputs": [],
   "source": [
    "# one cannot assume the order of the keys in enumeration\n",
    "for key in tel:\n",
    "    print('key:', key, '; value:', tel[key])"
   ]
  },
  {
   "cell_type": "code",
   "execution_count": null,
   "metadata": {},
   "outputs": [],
   "source": [
    "tel.items()"
   ]
  },
  {
   "cell_type": "code",
   "execution_count": null,
   "metadata": {},
   "outputs": [],
   "source": [
    "for key, value in sorted(tel.items()):\n",
    "    print('key:', key, '; value:', value)"
   ]
  },
  {
   "cell_type": "markdown",
   "metadata": {
    "nbpresent": {
     "id": "d5851385-38ab-4c95-a5e5-7b31fcc7f3f5"
    }
   },
   "source": [
    "# Control of flow"
   ]
  },
  {
   "cell_type": "markdown",
   "metadata": {
    "nbpresent": {
     "id": "6329c22c-ff1f-4f36-8f89-e66459f4b2cf"
    }
   },
   "source": [
    "### if "
   ]
  },
  {
   "cell_type": "code",
   "execution_count": null,
   "metadata": {
    "nbpresent": {
     "id": "16eaae17-d5ca-4a81-bb07-a9ffdf5b1461"
    }
   },
   "outputs": [],
   "source": [
    "x = int(input(\"Please enter an integer for x: \"))\n",
    "if x < 0:\n",
    "     x = 0\n",
    "     print('Negative; changed to zero')\n",
    "elif x == 0:\n",
    "     print('Zero')\n",
    "elif x == 1:\n",
    "     print('Single')\n",
    "else:\n",
    "     print('More')"
   ]
  },
  {
   "cell_type": "markdown",
   "metadata": {
    "nbpresent": {
     "id": "5e1c0611-4730-4035-bd4e-29cf97dc3877"
    }
   },
   "source": [
    "### while\n",
    "Fibonacci series: the sum of two elements defines the next with the first two elements to be 0 and 1. "
   ]
  },
  {
   "cell_type": "code",
   "execution_count": null,
   "metadata": {
    "nbpresent": {
     "id": "273a3550-f82b-444e-99f3-fefb0104f9d8"
    }
   },
   "outputs": [],
   "source": [
    "# multiple assignment to assign two variables at the same time\n",
    "a, b = 0, 1 \n",
    "while a < 10:\n",
    "    print(a)\n",
    "    a, b = b, a+b"
   ]
  },
  {
   "cell_type": "code",
   "execution_count": null,
   "metadata": {},
   "outputs": [],
   "source": [
    "# multiple assignment to assign two variables at the same time\n",
    "a, b = 0, 1 \n",
    "while a < 10:\n",
    "    print(a)\n",
    "    a, b = b, a+b"
   ]
  },
  {
   "cell_type": "markdown",
   "metadata": {
    "nbpresent": {
     "id": "e0d386f4-7be6-4158-b196-d3d05fdea643"
    }
   },
   "source": [
    "### for "
   ]
  },
  {
   "cell_type": "code",
   "execution_count": null,
   "metadata": {
    "nbpresent": {
     "id": "f6aef735-0cad-4ed3-8b78-f2cb16fd86cb"
    }
   },
   "outputs": [],
   "source": [
    "# Measure the length of some strings:\n",
    "words = ['cat', 'window', 'defenestrate']\n",
    "for i in words:\n",
    "    print(i, len(i))"
   ]
  },
  {
   "cell_type": "markdown",
   "metadata": {
    "nbpresent": {
     "id": "57e1a0be-7bcc-4a76-96c8-3bd7de63a6e7"
    }
   },
   "source": [
    "# Crawl the reviews for the Cafe at Yelp.com"
   ]
  },
  {
   "cell_type": "markdown",
   "metadata": {
    "nbpresent": {
     "id": "126a0406-6a2b-4586-8563-06155415c1dd"
    }
   },
   "source": [
    "The Cafe in Ames is reviewed on Yelp.com. It shows on this [page](https://www.yelp.com/biz/the-cafe-ames-9) that it attracted more than one page of reviews. You learn from the webpage that Yelp displays at most 20 reviews per page and we need to go beyond page 1 to see all the reviews. First, you sort the reviews by \"Newest first\". Then you play with the Next button to see how you can enumerate all pages of reviews. You notice that the URL in the address box of your browser changed when you click on the Next page. Previouly, on page 1, the URL (Uniform Resource Locator) is:\n",
    "\n",
    "https://www.yelp.com/biz/the-cafe-ames-9?sort_by=date_desc\n",
    "\n",
    "On page 2, the URL becomes:\n",
    "\n",
    "https://www.yelp.com/biz/the-cafe-ames-9?start=20&sort_by=date_desc\n",
    "\n",
    "You learn that probably Yelp use this `?start=20` to skip(or `offset` in SQLite language) the first 20 records to show you the next page of reviews. You can use this pattern in the URL to go to the next page to enumerate all pages of a business in Yelp.com. \n",
    "\n",
    "In this exmaple, we are going get the rating (number of stars) and the date for each of these reviews. \n",
    "\n",
    "The general procedure to crawl any web page is the following:\n",
    "\n",
    "1. Look for the string patterns proceeding and succeeding the information you are looking for in the source code of one page (the html file).\n",
    "2. Write a program to enumerate (`for` or `while` loop) all the pages."
   ]
  },
  {
   "cell_type": "markdown",
   "metadata": {
    "nbpresent": {
     "id": "dbc56408-70f6-4a4a-a189-9696cba05c3d"
    }
   },
   "source": [
    "For this example, I did a screenshot with my annotation to illustrate the critical patterns in the Yelp page for reviews. \n",
    "\n",
    "* `review_start_pattern` is a variable to stroe the string of `'<div class=\"review-wrapper\">'` to locate the beginning of an individual review.\n",
    "* `rating_start_pattern` is a variable to stroe the string of `'<div class=\"i-stars i-stars--regular-'` to locate the rating.\n",
    "* `date_start_pattern` is a variable to stroe the string of `'<span class=\"rating-qualifier\">'` to locate date of the rating.\n",
    "\n",
    "It takes some trails and errors to figure out what are good string patterns to use to locate the information you need in an html. For example, I found that `'<div class=\"review-wrapper\">'` appeared exactly 20 times in the webpage, which is a good indication that it corresponds to the 20 individual reviews on the page. "
   ]
  },
  {
   "cell_type": "markdown",
   "metadata": {
    "nbpresent": {
     "id": "abe100a9-94b2-4924-a7c9-55db8b493233"
    }
   },
   "source": [
    "** Screenshot of the review on 8/29/2018 **\n",
    "\n",
    "![Screenshot of a section in the source code of the Yelp page about The Cafe](https://previews.dropbox.com/p/thumb/AAIse05Id0FumtHZluZQsT5AFi5MOxFiKwzk9i1096UmnLiSXAIH41Tbu7zrOFGdcaFXYeX_6VWOpwXuUN8PREnjQJ9ZwRILcptynxW9IEi7htQCWC3Cbdk3G8hAt24JDH2YAn69S_dfvanVejCU5-JJO9nqsx9Om-lqSiYrJxPZRMby9Jhy7Q8PKEno5V66759fGWn73eKJkN4BETowCY8NKUMsj7GpegZGNucw5LRnlA/p.png?size=2048x1536&size_mode=3)\n"
   ]
  },
  {
   "cell_type": "markdown",
   "metadata": {},
   "source": [
    "**Note:** You can run the code 'crawl_yelp.py' using command line as well using \"python crawl_yelp.py\""
   ]
  },
  {
   "cell_type": "code",
   "execution_count": null,
   "metadata": {
    "nbpresent": {
     "id": "fddbdf03-f5fa-4ad6-ad27-d37d03aae09a"
    }
   },
   "outputs": [],
   "source": [
    "# crawl_yelp_reviews\n",
    "# Author: Cheng Nie\n",
    "# Email: cheng@chengnie.com\n",
    "# Date: Aug 29, 2018\n",
    "\n",
    "from urllib.request import urlopen\n",
    "\n",
    "# the number of pages needs to be updated to relfect the current total pages\n",
    "num_pages = 16\n",
    "reviews_per_page = 20\n",
    "# the file we will save the rating and date\n",
    "out_file = open('the_cafe_reviews.csv', 'w')\n",
    "# the url that we need to locate the page for reviews\n",
    "# sorted in reverse chronological order\n",
    "url = 'https://www.yelp.com/biz/the-cafe-ames-9?start={start_number}&sort_by=date_desc'\n",
    "\n",
    "# the string patterns to locate relevant information\n",
    "review_start_pattern = '<div class=\"review-wrapper\">'\n",
    "\n",
    "rating_start_pattern = '<div class=\"i-stars i-stars--regular-'\n",
    "rating_end_pattern = 'rating-large\" title=\"'\n",
    "\n",
    "date_start_pattern = '<span class=\"rating-qualifier\">'\n",
    "date_end_pattern = '<'\n",
    "\n",
    "reviews_count = 0\n",
    "\n",
    "# put the header to the file\n",
    "out_file.write('review_id,review_rating,date_posted' + '\\n')\n",
    "review_id = 0\n",
    "\n",
    "for page in range(num_pages):\n",
    "\n",
    "    print('processing page', page)\n",
    "\n",
    "    # open the url and save the source code string to page_content\n",
    "    html = urlopen(url.format(start_number=page * reviews_per_page))\n",
    "    page_content = html.read().decode('utf-8')\n",
    "\n",
    "    # locate the beginning of an individual review\n",
    "    review_start = page_content.find(review_start_pattern)\n",
    "\n",
    "    while review_start != -1:\n",
    "        # it means there at least one more review to be crawled\n",
    "        reviews_count += 1\n",
    "\n",
    "        # get the rating\n",
    "        cut_front = page_content.find(\n",
    "            rating_start_pattern, review_start) + len(rating_start_pattern)\n",
    "        cut_end = page_content.find(rating_end_pattern, cut_front)\n",
    "        rating = page_content[cut_front:cut_end]\n",
    "        rating = rating.strip()  # remove white spaces around\n",
    "\n",
    "        # get the date\n",
    "        cut_front = page_content.find(\n",
    "            date_start_pattern, cut_end) + len(date_start_pattern)\n",
    "        cut_end = page_content.find(date_end_pattern, cut_front)\n",
    "        date = page_content[cut_front:cut_end]\n",
    "        date = date.strip()  # remove white spaces around\n",
    "\n",
    "        # save the data into out_file\n",
    "        review_id += 1\n",
    "        out_file.write(','.join([str(review_id), rating, date]) + '\\n')\n",
    "        review_start = page_content.find(review_start_pattern, cut_end)\n",
    "\n",
    "    print('crawled', reviews_count, 'reviews so far')\n",
    "\n",
    "print(\"Program finished!\")\n",
    "\n",
    "out_file.close()\n"
   ]
  },
  {
   "cell_type": "markdown",
   "metadata": {
    "nbpresent": {
     "id": "d339c1de-5e46-496a-9f12-85cf3520eccc"
    }
   },
   "source": [
    "# Define function"
   ]
  },
  {
   "cell_type": "code",
   "execution_count": null,
   "metadata": {
    "nbpresent": {
     "id": "ca20bcad-352b-496b-819f-6a6e4ea69ee8"
    }
   },
   "outputs": [],
   "source": [
    "def fib(n):    # write Fibonacci series up to n\n",
    "    \"\"\"Print a Fibonacci series up to n.\"\"\"\n",
    "    a, b = 0, 1\n",
    "    while a <= n:\n",
    "        print(a)\n",
    "        a, b = b, a+b"
   ]
  },
  {
   "cell_type": "code",
   "execution_count": null,
   "metadata": {
    "nbpresent": {
     "id": "1910f4ab-8138-4aee-a916-7d362b25824d"
    }
   },
   "outputs": [],
   "source": [
    "fib(200)"
   ]
  },
  {
   "cell_type": "code",
   "execution_count": null,
   "metadata": {
    "nbpresent": {
     "id": "872a31c5-44ce-45f0-9e9c-fab20ffc2453"
    }
   },
   "outputs": [],
   "source": [
    "fib(2E15) # do not need to worry about the type of a,b"
   ]
  },
  {
   "cell_type": "markdown",
   "metadata": {
    "nbpresent": {
     "id": "45eb0448-bb34-49a7-9387-e8d784bf56bb"
    }
   },
   "source": [
    "# Data I/O \n",
    "Create some data in Python and populate the database with the created data. We want to create a table with 3 columns: id, name, and age to store information about 50 kids in a day care. \n",
    "\n",
    "The various modules that extend the basic Python funtions are indexed [here](https://docs.python.org/3.5/py-modindex.html). "
   ]
  },
  {
   "cell_type": "code",
   "execution_count": null,
   "metadata": {
    "nbpresent": {
     "id": "b0c1a3dc-9b25-4687-a02d-51e5941eb5f7"
    }
   },
   "outputs": [],
   "source": [
    "# output for eyeballing the data\n",
    "\n",
    "import string\n",
    "import random\n",
    "\n",
    "# fix the pseudo-random sequences for easy replication \n",
    "# It will generate the same random sequences \n",
    "# of nubmers/letters with the same seed. \n",
    "random.seed(123) \n",
    "\n",
    "for i in range(50):\n",
    "# Data values separated by comma(csv file)\n",
    "    print(i+1,random.choice(string.ascii_uppercase),\n",
    "          random.choice(range(6)), sep=',')"
   ]
  },
  {
   "cell_type": "code",
   "execution_count": null,
   "metadata": {
    "nbpresent": {
     "id": "59359450-113f-4881-a2b1-4efc1f9bf495"
    }
   },
   "outputs": [],
   "source": [
    "# write the data to a file called data.csv\n",
    "random.seed(123)\n",
    "out_file=open('data.csv','w')\n",
    "columns=['id','name','age']\n",
    "out_file.write(','.join(columns)+'\\n')\n",
    "for i in range(50):\n",
    "    row=[str(i+1),random.choice(string.ascii_uppercase),\n",
    "         str(random.choice(range(6)))]\n",
    "    out_file.write(','.join(row)+'\\n')\n",
    "out_file.close()"
   ]
  },
  {
   "cell_type": "code",
   "execution_count": null,
   "metadata": {
    "nbpresent": {
     "id": "2a89b29b-0708-44b4-aa92-15c42bdbfc35"
    },
    "scrolled": true
   },
   "outputs": [],
   "source": [
    "# load data back into Python\n",
    "for line in open('data.csv', 'r'):\n",
    "    print(line)"
   ]
  },
  {
   "cell_type": "code",
   "execution_count": null,
   "metadata": {
    "nbpresent": {
     "id": "36a5d434-404f-4b50-891d-8f7377bcc00c"
    },
    "scrolled": false
   },
   "outputs": [],
   "source": [
    "# To disable to the new line added for each print\n",
    "# use the end parameter in print function\n",
    "for line in open('data.csv', 'r'):\n",
    "    print(line, end = '')"
   ]
  },
  {
   "cell_type": "markdown",
   "metadata": {
    "nbpresent": {
     "id": "1ba1c056-c5a3-4ced-9e02-8c57f0666ae6"
    }
   },
   "source": [
    "# SQLite\n",
    "\n",
    "\n",
    "## [For Mac](https://anaconda.org/blaze/sqlite3)\n",
    "\n",
    "1. In Terminal, run: conda install -c blaze sqlite3\n",
    "\n",
    "## [For Winodws](http://www.sqlitetutorial.net/download-install-sqlite/)\n",
    "\n",
    "1. You might want to make the sqlite3 command accessible in the command line by [changing the environment variable in Windows](https://www.howtogeek.com/118594/how-to-edit-your-system-path-for-easy-command-line-access/)\n",
    "\n",
    "To get comfortable with it, you might find [this tutorial](http://www.sqlitetutorial.net/) helpful. \n",
    "\n",
    "If you prefer GUI, you might try [SQLiteStudio](https://sqlitestudio.pl)."
   ]
  },
  {
   "cell_type": "code",
   "execution_count": null,
   "metadata": {},
   "outputs": [],
   "source": [
    "# Enter into the folder for this course where you put the Jupyter notebook\n",
    "\n",
    "# create a database in the local folder named test.db\n",
    "sqlite3 test.db\n",
    "\n",
    "# ----------------------- In SQLite ------------------\n",
    "\n",
    "\n",
    "# check the help function\n",
    ".help\n",
    "\n",
    "# display the database\n",
    ".databases\n",
    "\n",
    "# display the tables in test database\n",
    ".tables\n",
    "\n",
    "# create a new table named example\n",
    "create table example(\n",
    "id int not null,\n",
    "name varchar(30),\n",
    "age tinyint,\n",
    "primary key(id));\n",
    "\n",
    "# now we should have the example table\n",
    ".tables\n",
    "\n",
    "# how was the table example defined again?\n",
    ".schema example\n",
    "\n",
    "# is there anything in the example table?\n",
    "select * from example;\n",
    "\n",
    "# delete the header in data.csv \n",
    "# import csv file into example table \n",
    ".mode csv\n",
    ".import data.csv example\n",
    "\n",
    "# is there anything now?\n",
    "select * from example;\n",
    "\n",
    "# drop the table\n",
    "drop table example;\n",
    "\n",
    "# does the example table still exist?\n",
    ".tables\n",
    "\n",
    "# exit the sqlite\n",
    ".exit or .quit\n",
    "\n",
    "# delete the database by deleting the test.db file"
   ]
  },
  {
   "cell_type": "markdown",
   "metadata": {
    "nbpresent": {
     "id": "8ea088f1-2a8f-4e86-8be7-601361fd5138"
    }
   },
   "source": [
    "** Quiz: import the crawled Yelp reviews into a newly created table in your database. ** "
   ]
  },
  {
   "cell_type": "markdown",
   "metadata": {
    "nbpresent": {
     "id": "8be3e314-3df7-4c8a-95ff-1a7c1d65ea33"
    }
   },
   "source": [
    "# Use Python to access SQLite database"
   ]
  },
  {
   "cell_type": "markdown",
   "metadata": {
    "nbpresent": {
     "id": "5352a0f5-e48d-4ceb-9bec-a3c2b6ed5b0b"
    }
   },
   "source": [
    "Remember that we use Python to save 50 kids' infomation into a csv file named `data.csv` first and then use the `load` command in SQLite to import the data? We don't actually need to save the `data.csv` file to hard disk. And we can create and load the data into database without leaving Python. "
   ]
  },
  {
   "cell_type": "code",
   "execution_count": null,
   "metadata": {
    "nbpresent": {
     "id": "d04623b7-4014-46de-83e3-aa2fe9069f05"
    }
   },
   "outputs": [],
   "source": [
    "#\n",
    "# ----------------------- In Python ------------------\n",
    "\n",
    "import sqlite3\n",
    "conn = sqlite3.connect('test.db')\n",
    "# All DDL (Data Definition Language) statements are \n",
    "# executed using a handle structure known as a cursor\n",
    "cursor = conn.cursor()\n",
    "\n",
    "# create a table named example\n",
    "cursor.execute('''\n",
    "    create table example(\n",
    "    id int not null,\n",
    "    name varchar(30),\n",
    "    age tinyint,\n",
    "    primary key(id));\n",
    "    ''')\n",
    "conn.commit()\n",
    "\n",
    "# write the same data  to the example table without saving a csv file\n",
    "query0_template = '''insert into example (id, name, age) \\\n",
    "values ({id_num},\"{c_name}\",{c_age});'''\n",
    "random.seed(123)\n",
    "for i in range(50):\n",
    "    query0 = query0_template.format(id_num = i+1,\n",
    "                           c_name = random.choice(string.ascii_uppercase),\n",
    "                           c_age = random.choice(range(6)))\n",
    "    print(query0)\n",
    "    cursor.execute(query0)\n",
    "    conn.commit()"
   ]
  },
  {
   "cell_type": "markdown",
   "metadata": {
    "nbpresent": {
     "id": "12a9f12e-70fa-47e6-b887-bf2355bf5518"
    }
   },
   "source": [
    "To get better understanding of the table we just created. We will use SQLite command line again. "
   ]
  },
  {
   "cell_type": "code",
   "execution_count": null,
   "metadata": {},
   "outputs": [],
   "source": [
    "# ----------------------- In SQLite ------------------\n",
    "\n",
    "# To get the totoal number of records\n",
    "select count(*) from example;\n",
    "\n",
    "# To get age histgram\n",
    "select distinct age, count(*) from example group by age;\n",
    "\n",
    "# does SQLite take the primary key seriously?\n",
    "insert into example (id, name, age) values (null,'P',6);\n",
    "insert into example (id, name, age) values (3,'P',6); \n",
    "\n",
    "# alright, let's insert something else\n",
    "insert into example (id, name, age) values (51,'P',6);\n",
    "insert into example (id, name, age) values (52,'Q',null);\n",
    "insert into example (id, name, age) values (54,'S',null),(55,'T',null);\n",
    "insert into example (id, name) values (53,'R');\n",
    "\n",
    "# who is the child with id of 53?\n",
    "select * from example where id = 53;\n",
    "\n",
    "# update the age for this child. \n",
    "update example set age=3 where id=53;\n",
    "select * from example where id = 53;\n",
    "\n",
    "# what's inside the table now?\n",
    "select * from example;"
   ]
  },
  {
   "cell_type": "markdown",
   "metadata": {
    "nbpresent": {
     "id": "6bbe3e0f-8e36-4018-bc2a-c3ea8350ff2a"
    }
   },
   "source": [
    "Again, you can actually do everything in Python without going to the SQLite. "
   ]
  },
  {
   "cell_type": "code",
   "execution_count": null,
   "metadata": {
    "nbpresent": {
     "id": "4866941c-645a-41fd-9bfc-6474d37dd509"
    }
   },
   "outputs": [],
   "source": [
    "#\n",
    "# ----------------------- In Python ------------------\n",
    "\n",
    "# query all the content in the example table\n",
    "cursor.execute('select * from example;')\n",
    "for i in cursor:\n",
    "    print(i)"
   ]
  },
  {
   "cell_type": "markdown",
   "metadata": {
    "nbpresent": {
     "id": "ea2a1998-f754-4c54-bcd8-8c85bd1fba31"
    }
   },
   "source": [
    "Now we want to add one new column of `mother_name` to record the mother's name for each child in the child care."
   ]
  },
  {
   "cell_type": "code",
   "execution_count": null,
   "metadata": {
    "nbpresent": {
     "id": "2f18fe60-cc7d-4a6e-8253-5a4053938466"
    }
   },
   "outputs": [],
   "source": [
    "#\n",
    "# ----------------------- In Python ------------------\n",
    "\n",
    "\n",
    "# # example for adding new info for existing record\n",
    "cursor.execute('alter table example add mother_name varchar(1) default null')\n",
    "conn.commit()\n",
    "\n",
    "query1_template='update example set mother_name=\"{m_name}\" where id={id_num};'\n",
    "random.seed(333)\n",
    "\n",
    "for i in range(55):\n",
    "    query1=query1_template.format(m_name = random.choice(string.ascii_uppercase),id_num = i+1)\n",
    "    print(query1)\n",
    "    cursor.execute(query1)\n",
    "    conn.commit()\n",
    " "
   ]
  },
  {
   "cell_type": "code",
   "execution_count": null,
   "metadata": {
    "nbpresent": {
     "id": "b56f98af-e326-4f21-a4ac-677f8549f845"
    }
   },
   "outputs": [],
   "source": [
    "#\n",
    "# ----------------------- In Python ------------------\n",
    "\n",
    "# example for insert new records\n",
    "query2_template='insert into example (id, name,age,mother_name) \\\n",
    "values ({id_num},\"{c_name}\",{c_age},\"{m_name}\")'    \n",
    "for i in range(10):\n",
    "    query2=query2_template.format(id_num = i+60, \n",
    "                         c_name = random.choice(string.ascii_uppercase), \n",
    "                         c_age = random.randint(0,6),\n",
    "                         m_name = random.choice(string.ascii_uppercase))\n",
    "    print(query2)\n",
    "    cursor.execute(query2)\n",
    "    conn.commit()"
   ]
  },
  {
   "cell_type": "markdown",
   "metadata": {
    "nbpresent": {
     "id": "5a0d1c24-ed1b-4502-aeed-b9c1fa166f86"
    }
   },
   "source": [
    "Check if you've updated the data successfully in SQLite database from Python"
   ]
  },
  {
   "cell_type": "code",
   "execution_count": null,
   "metadata": {
    "nbpresent": {
     "id": "29858adc-a5d4-4bdd-b241-c32f1a2ad6ed"
    }
   },
   "outputs": [],
   "source": [
    "#\n",
    "# ----------------------- In Python ------------------\n",
    "\n",
    "# query all the content in the example table\n",
    "cursor.execute('select * from example;')\n",
    "for i in cursor:\n",
    "    print(i)"
   ]
  },
  {
   "cell_type": "markdown",
   "metadata": {},
   "source": [
    "Export the data from SQLite"
   ]
  },
  {
   "cell_type": "code",
   "execution_count": null,
   "metadata": {},
   "outputs": [],
   "source": [
    "#\n",
    "# ----------------------- In SQLite ------------------\n",
    ".headers on\n",
    ".mode csv\n",
    ".output data_export.csv\n",
    "select * from example;\n",
    "\n",
    "# ----- after checking the data is correct\n",
    "# change the output back to stdout\n",
    ".output stdout"
   ]
  },
  {
   "cell_type": "markdown",
   "metadata": {
    "nbpresent": {
     "id": "9bddad4d-0af0-4440-81b1-b497e8dcce20"
    }
   },
   "source": [
    "# Regular expression in Python\n",
    "Before you run this part, you need to download the [digits.txt](https://github.com/cniedotus/Python_scrape/raw/master/digits.txt) and [spaces.txt](https://github.com/cniedotus/Python_scrape/raw/master/spaces.txt) files to the same folder as this notebook "
   ]
  },
  {
   "cell_type": "markdown",
   "metadata": {
    "nbpresent": {
     "id": "60fcb0b9-b219-4957-81d1-d35ec6ba6b32"
    }
   },
   "source": [
    "What's in the `digits.txt` file?"
   ]
  },
  {
   "cell_type": "code",
   "execution_count": null,
   "metadata": {
    "nbpresent": {
     "id": "519fa1bd-5f71-4139-98b9-d4cd5fe5d345"
    }
   },
   "outputs": [],
   "source": [
    "import re\n",
    "infile=open('digits.txt','r')\n",
    "content=infile.read()\n",
    "print(content)"
   ]
  },
  {
   "cell_type": "markdown",
   "metadata": {
    "nbpresent": {
     "id": "1677a63f-c64f-4848-88e9-de15bafadc78"
    }
   },
   "source": [
    "How can I find all the numbers in a file like `digits.txt`?"
   ]
  },
  {
   "cell_type": "code",
   "execution_count": null,
   "metadata": {
    "nbpresent": {
     "id": "ec2cdb7a-f2e5-46f5-94a9-0dec55ab57ee"
    }
   },
   "outputs": [],
   "source": [
    "# Find all the numbers in the file\n",
    "numbers=re.findall('\\d+',content)\n",
    "for n in numbers:\n",
    "    print(n)"
   ]
  },
  {
   "cell_type": "markdown",
   "metadata": {
    "nbpresent": {
     "id": "1b62ee87-60aa-436b-ac53-33ca42b2cc12"
    }
   },
   "source": [
    "How can I find all the equations?"
   ]
  },
  {
   "cell_type": "code",
   "execution_count": null,
   "metadata": {
    "nbpresent": {
     "id": "ff4fccbb-afe4-44f3-abe4-120c705beb18"
    }
   },
   "outputs": [],
   "source": [
    "# find equations\n",
    "equations=re.findall('\\d+=\\d+',content)\n",
    "for e in equations:\n",
    "        print(e)"
   ]
  },
  {
   "cell_type": "markdown",
   "metadata": {
    "nbpresent": {
     "id": "04da5f7d-ee93-4336-a177-110335386322"
    }
   },
   "source": [
    "The equations seem to be incorrect, how can I correct them without affecting other text information?"
   ]
  },
  {
   "cell_type": "code",
   "execution_count": null,
   "metadata": {
    "nbpresent": {
     "id": "6b6d2d18-0703-4de2-b00d-62c35389d5cf"
    }
   },
   "outputs": [],
   "source": [
    "# subsitute equations to correct them\n",
    "# use the left hand side number\n",
    "print(re.sub('(\\d+)=\\d+', '\\\\1=\\\\1',content))"
   ]
  },
  {
   "cell_type": "code",
   "execution_count": null,
   "metadata": {
    "nbpresent": {
     "id": "13f47e93-0c03-46ca-a558-11f7f0845bc5"
    }
   },
   "outputs": [],
   "source": [
    "# another way to subsitute equations to correct them \n",
    "# use the right hand side number\n",
    "print(re.sub('\\d+=(\\d+)','\\\\1=\\\\1',content))"
   ]
  },
  {
   "cell_type": "code",
   "execution_count": null,
   "metadata": {
    "nbpresent": {
     "id": "ffcec2b4-92a9-4e93-8343-baf7057f2b94"
    }
   },
   "outputs": [],
   "source": [
    "# Save to file\n",
    "print(re.sub('(\\d+)=\\d+','\\\\1=\\\\1',content), file = open('digits_corrected.txt', 'w'))"
   ]
  },
  {
   "cell_type": "markdown",
   "metadata": {
    "nbpresent": {
     "id": "8f7ebbb9-40f2-4d24-b177-81581bbfa37e"
    }
   },
   "source": [
    "Preprocessing a text file with various types of spaces."
   ]
  },
  {
   "cell_type": "code",
   "execution_count": null,
   "metadata": {
    "nbpresent": {
     "id": "50e42a8b-9df9-4927-a467-872a4cbb455e"
    }
   },
   "outputs": [],
   "source": [
    "infile=open('spaces.txt','r')\n",
    "content=infile.read()\n",
    "print(content)"
   ]
  },
  {
   "cell_type": "code",
   "execution_count": null,
   "metadata": {
    "nbpresent": {
     "id": "519c6255-2b6a-4e7e-843e-6c44c694eb94"
    }
   },
   "outputs": [],
   "source": [
    "print(re.sub('[\\t ]+','\\t',content))"
   ]
  },
  {
   "cell_type": "code",
   "execution_count": null,
   "metadata": {
    "nbpresent": {
     "id": "36550584-c322-4289-8cf2-0024d083edb7"
    }
   },
   "outputs": [],
   "source": [
    "print(re.sub('[\\t ]+','\\t',content), file = open('spaces_corrected.txt', 'w'))"
   ]
  },
  {
   "cell_type": "code",
   "execution_count": null,
   "metadata": {},
   "outputs": [],
   "source": [
    "print(re.sub('[\\t ]+',',',content), file = open('spaces_corrected.csv', 'w'))"
   ]
  },
  {
   "cell_type": "markdown",
   "metadata": {
    "nbpresent": {
     "id": "f15345e4-f392-4456-b5bb-51448e3a517d"
    }
   },
   "source": [
    "# More about index"
   ]
  },
  {
   "cell_type": "code",
   "execution_count": null,
   "metadata": {
    "nbpresent": {
     "id": "68d919b8-6328-4778-baea-5a05d64b79c5"
    }
   },
   "outputs": [],
   "source": [
    "word = 'HELP' + 'A'\n",
    "word"
   ]
  },
  {
   "cell_type": "code",
   "execution_count": null,
   "metadata": {
    "nbpresent": {
     "id": "0fd2055c-3abe-4351-9e12-f9732c177cc5"
    }
   },
   "outputs": [],
   "source": [
    "# first index default to 0 and second index default to the size\n",
    "word[:2]"
   ]
  },
  {
   "cell_type": "code",
   "execution_count": null,
   "metadata": {
    "nbpresent": {
     "id": "2032eca5-8a20-4dd4-a820-efde29584f25"
    }
   },
   "outputs": [],
   "source": [
    "# It's equivalent to \n",
    "word[0:2]"
   ]
  },
  {
   "cell_type": "code",
   "execution_count": null,
   "metadata": {
    "nbpresent": {
     "id": "c6e71ad7-b90f-4875-b139-8430820cbb46"
    }
   },
   "outputs": [],
   "source": [
    "# Everything except the first two characters\n",
    "word[2:]"
   ]
  },
  {
   "cell_type": "code",
   "execution_count": null,
   "metadata": {
    "nbpresent": {
     "id": "cb34e8fc-8145-4c03-9cb8-16387ee1cafb"
    }
   },
   "outputs": [],
   "source": [
    "# It's equivalent to \n",
    "word[2:len(word)]    "
   ]
  },
  {
   "cell_type": "markdown",
   "metadata": {
    "nbpresent": {
     "id": "0a5926ef-cfbd-42e0-9d1b-9b82ed23ad2d"
    }
   },
   "source": [
    "How about selecting every other character?"
   ]
  },
  {
   "cell_type": "code",
   "execution_count": null,
   "metadata": {
    "nbpresent": {
     "id": "da51b3c7-cb85-408b-add1-29f9d3a46a4f"
    }
   },
   "outputs": [],
   "source": [
    "# start: end: step\n",
    "word[0::2]"
   ]
  },
  {
   "cell_type": "code",
   "execution_count": null,
   "metadata": {
    "nbpresent": {
     "id": "d3c0d3f0-4150-4dc3-86f4-8f4bf22d9f91"
    }
   },
   "outputs": [],
   "source": [
    "# It's equivalent to \n",
    "word[0:len(word):2]"
   ]
  },
  {
   "cell_type": "markdown",
   "metadata": {
    "nbpresent": {
     "id": "e48841ba-52f2-4c15-a720-d9c56ae2b972"
    }
   },
   "source": [
    "## Negative index"
   ]
  },
  {
   "cell_type": "code",
   "execution_count": null,
   "metadata": {
    "nbpresent": {
     "id": "d58b3b6d-5eff-422a-a4db-942f614dcfd5"
    }
   },
   "outputs": [],
   "source": [
    "word[-1]     # The last character"
   ]
  },
  {
   "cell_type": "code",
   "execution_count": null,
   "metadata": {
    "nbpresent": {
     "id": "87304344-3de7-4719-a935-a3a1300a98d3"
    }
   },
   "outputs": [],
   "source": [
    "word[-2]     # The last-but-one character"
   ]
  },
  {
   "cell_type": "code",
   "execution_count": null,
   "metadata": {
    "nbpresent": {
     "id": "b86dd1ea-7507-40e7-93fd-a57c0aa75ef0"
    }
   },
   "outputs": [],
   "source": [
    "word[-2:]    # The last two characters"
   ]
  },
  {
   "cell_type": "code",
   "execution_count": null,
   "metadata": {
    "nbpresent": {
     "id": "7f0f3e7b-7204-4d61-8d10-d3305a1f87ce"
    }
   },
   "outputs": [],
   "source": [
    "word[:-2]    # Everything except the last two characters"
   ]
  },
  {
   "cell_type": "markdown",
   "metadata": {
    "nbpresent": {
     "id": "2abdc3f7-e005-4d9f-9e1c-cfae6f38b636"
    }
   },
   "source": [
    "# More about list"
   ]
  },
  {
   "cell_type": "code",
   "execution_count": null,
   "metadata": {
    "nbpresent": {
     "id": "32ebe655-b4cd-46ea-80c5-d4d41646a2ca"
    }
   },
   "outputs": [],
   "source": [
    "a = ['spam', 'eggs', 100, 1234]\n",
    "a"
   ]
  },
  {
   "cell_type": "code",
   "execution_count": null,
   "metadata": {
    "nbpresent": {
     "id": "c46f8128-a5f0-445b-ae44-f85e6a1edaf8"
    }
   },
   "outputs": [],
   "source": [
    "a[-2]"
   ]
  },
  {
   "cell_type": "code",
   "execution_count": null,
   "metadata": {
    "nbpresent": {
     "id": "4ef72322-3b54-4d9d-8d6b-db44fe4fddef"
    }
   },
   "outputs": [],
   "source": [
    "a[1:-1]"
   ]
  },
  {
   "cell_type": "code",
   "execution_count": null,
   "metadata": {
    "nbpresent": {
     "id": "4e7bb8ab-4f1c-4d53-b8bd-01f6850a4267"
    }
   },
   "outputs": [],
   "source": [
    "a[:2] + ['bacon', 2*2]"
   ]
  },
  {
   "cell_type": "code",
   "execution_count": null,
   "metadata": {
    "nbpresent": {
     "id": "f20ef41c-c7dd-4eba-8abc-82eced0ae5c1"
    }
   },
   "outputs": [],
   "source": [
    "3*a[:3] + ['Boo!']"
   ]
  },
  {
   "cell_type": "markdown",
   "metadata": {
    "nbpresent": {
     "id": "3b6531e8-0f07-455c-a5b5-4ec32dd530ba"
    }
   },
   "source": [
    "## Versatile features of a list"
   ]
  },
  {
   "cell_type": "code",
   "execution_count": null,
   "metadata": {
    "nbpresent": {
     "id": "e8dd67d7-2692-407d-be96-a9003838322c"
    }
   },
   "outputs": [],
   "source": [
    "# Replace some items:\n",
    "a[0:2] = [1, 12]\n",
    "a"
   ]
  },
  {
   "cell_type": "code",
   "execution_count": null,
   "metadata": {
    "nbpresent": {
     "id": "17caa71c-4c94-4bd9-93ee-795eda722234"
    }
   },
   "outputs": [],
   "source": [
    "# Remove some:\n",
    "del a[0:2] # or a[0:2] = []\n",
    "a"
   ]
  },
  {
   "cell_type": "code",
   "execution_count": null,
   "metadata": {
    "nbpresent": {
     "id": "1360db0d-88a2-443f-a092-9fd8017ce755"
    }
   },
   "outputs": [],
   "source": [
    "# create some copies for change\n",
    "b = a.copy()\n",
    "c = a.copy()"
   ]
  },
  {
   "cell_type": "code",
   "execution_count": null,
   "metadata": {
    "nbpresent": {
     "id": "8dc18a01-fe5f-48e6-8592-749b347db02f"
    }
   },
   "outputs": [],
   "source": [
    "# Insert some:\n",
    "b[1:1] = ['insert', 'some']\n",
    "b"
   ]
  },
  {
   "cell_type": "code",
   "execution_count": null,
   "metadata": {
    "nbpresent": {
     "id": "9b932d4f-e76b-4e8a-b9da-49e63d05e005"
    }
   },
   "outputs": [],
   "source": [
    "# inserting at one position is not the same as changing one element\n",
    "c[1] = ['insert', 'some']\n",
    "c"
   ]
  },
  {
   "cell_type": "code",
   "execution_count": null,
   "metadata": {},
   "outputs": [],
   "source": [
    "a  # not modified by changing b or c"
   ]
  },
  {
   "cell_type": "markdown",
   "metadata": {
    "nbpresent": {
     "id": "c0cfb2c7-799b-4523-b38f-9c51ccddc0b8"
    }
   },
   "source": [
    "## How to get the third power of integers between 0 and 10."
   ]
  },
  {
   "cell_type": "code",
   "execution_count": null,
   "metadata": {
    "nbpresent": {
     "id": "b35ad109-4451-4b6f-a0ce-5eaa7ebf48d9"
    }
   },
   "outputs": [],
   "source": [
    "# loop way\n",
    "cubes = []\n",
    "for x in range(11):\n",
    "        cubes.append(x**3)\n",
    "cubes"
   ]
  },
  {
   "cell_type": "code",
   "execution_count": null,
   "metadata": {
    "nbpresent": {
     "id": "2692b65b-7fbc-45c7-a5ef-1a1add302d88"
    }
   },
   "outputs": [],
   "source": [
    "# map way\n",
    "def cube(x): \n",
    "    return x*x*x\n",
    "\n",
    "list(map(cube, range(11)))"
   ]
  },
  {
   "cell_type": "code",
   "execution_count": null,
   "metadata": {
    "nbpresent": {
     "id": "3e00e916-b917-4ab7-b2b4-c7f3f128a23f"
    }
   },
   "outputs": [],
   "source": [
    "# list comprehension way\n",
    "[x**3 for x in range(11)]"
   ]
  },
  {
   "cell_type": "markdown",
   "metadata": {
    "nbpresent": {
     "id": "75615668-61ed-4095-a532-3431b943fb90"
    }
   },
   "source": [
    "\n",
    "## Target: find the even number below 10"
   ]
  },
  {
   "cell_type": "code",
   "execution_count": null,
   "metadata": {
    "nbpresent": {
     "id": "05141796-c053-4a8d-b8fe-cc6b125d8c5a"
    }
   },
   "outputs": [],
   "source": [
    "result = []\n",
    "for i in range(11):\n",
    "    if i%2 == 0:\n",
    "        result.append(i)\n",
    "else:\n",
    "    print(result)"
   ]
  },
  {
   "cell_type": "code",
   "execution_count": null,
   "metadata": {
    "nbpresent": {
     "id": "b4771dfe-87bb-433e-9472-1cf1e48a4520"
    }
   },
   "outputs": [],
   "source": [
    "# Use if in list comprehension\n",
    "[i for i in range(11) if i%2==0]"
   ]
  },
  {
   "cell_type": "code",
   "execution_count": null,
   "metadata": {
    "nbpresent": {
     "id": "e4ab6022-a1db-4120-9fd9-f318d99273f6"
    }
   },
   "outputs": [],
   "source": [
    "l=[1,3,5,6,8,10]\n",
    "[i for i in l if i%2==0]"
   ]
  },
  {
   "cell_type": "markdown",
   "metadata": {
    "nbpresent": {
     "id": "f719b019-11c6-4011-a453-986bd36b07c3"
    }
   },
   "source": [
    "# What's next?"
   ]
  },
  {
   "cell_type": "markdown",
   "metadata": {
    "nbpresent": {
     "id": "a0a41990-2488-4c50-b04a-8e7586d35ee7"
    }
   },
   "source": [
    "## Online help by searching in Google to find answers\n",
    "* Sort dict by value\n",
    "\n",
    "## More topics\n",
    "* [Jupyter Notebook](http://ipython.readthedocs.org/en/stable/)\n",
    "* [sqlite3](https://docs.python.org/3/library/sqlite3.html)\n",
    "* [BeautifulSoup](http://www.crummy.com/software/BeautifulSoup/bs4/doc/)\n",
    "* [Scikit-learn for machine learning](http://scikit-learn.org/stable/)\n",
    "* [networkx for social network analysis](https://networkx.github.io/index.html)\n",
    "* [matplotlib for Python graphics](http://matplotlib.org/gallery.html)\n",
    "* [Books published in Jupyter notebooks](http://nbviewer.jupyter.org/)\n",
    "\n",
    "\n",
    "## Books that I recommend\n",
    "\n",
    "All three books are available online legally through the Iowa State library. The Amazon links are given because the reviews might help you decide wheter or not to read them. \n",
    "\n",
    "* [Python Essential Reference (4th Edition) ](http://www.amazon.com/Python-Essential-Reference-David-Beazley/dp/0672329786/ref=sr_1_1?ie=UTF8&qid=1455314241&sr=8-1&keywords=python+essential+reference)\n",
    "* [Web Scraping with Python](http://www.amazon.com/Web-Scraping-Python-Collecting-Modern/dp/1491910291/ref=sr_1_1?ie=UTF8&qid=1455314292&sr=8-1&keywords=python+scraping)\n",
    "* [Python for Data Analysis](https://www.amazon.com/Python-Data-Analysis-Wrangling-IPython/dp/1491957662/ref=asap_bc?ie=UTF8)\n",
    "\n",
    "\n",
    "\n",
    "## Courses that I recommend\n",
    "* [Google Python Class](https://developers.google.com/edu/python/)\n",
    "* [Programming for Everybody (Getting Started with Python)\n",
    "University of Michigan](https://www.coursera.org/learn/python)"
   ]
  }
 ],
 "metadata": {
  "kernelspec": {
   "display_name": "Python [conda env:py36]",
   "language": "python",
   "name": "conda-env-py36-py"
  },
  "language_info": {
   "codemirror_mode": {
    "name": "ipython",
    "version": 3
   },
   "file_extension": ".py",
   "mimetype": "text/x-python",
   "name": "python",
   "nbconvert_exporter": "python",
   "pygments_lexer": "ipython3",
   "version": "3.6.1"
  }
 },
 "nbformat": 4,
 "nbformat_minor": 1
}
